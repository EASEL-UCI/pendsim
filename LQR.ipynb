{
 "cells": [
  {
   "cell_type": "code",
   "execution_count": 1,
   "id": "7129082a",
   "metadata": {
    "id": "7129082a",
    "scrolled": false
   },
   "outputs": [],
   "source": [
    "from pendsim import sim, controller, viz\n",
    "import numpy as np\n",
    "import matplotlib.pyplot as plt\n",
    "from IPython.display import HTML"
   ]
  },
  {
   "cell_type": "markdown",
   "metadata": {},
   "source": [
    "## Linear Quadratic Regulator (LQR) Notebook\n",
    "LQR is a form of optimal control that allows us to stabilize a system while minimizing the \"cost\" of doing so. An important feature of LQR is that we can tune the weighting of variables in the cost function, which allows us to prioritize certain variables over others (e.g amount of energy used vs performance).\n",
    "\n",
    "Let's consider a general quadratic cost function $J$ of the form\n",
    "\n",
    "\n",
    "$$\n",
    "J = \\int_0^\\infty [x^T Q x + u^T R u]dt\n",
    "$$\n",
    "\n",
    "\n",
    "where the vectors $x$ and $u$ represent the system's state and control input, respectively. The objective of an LQR controller is to choose the control input $u$ to minimize $J$.\n",
    "\n",
    "We use the matrices $Q$ and $R$ as weights to penalize the terms that depend on $x$ and $u$, respectively. A larger value of $Q$ places a higher weight on our state $x$, while a larger value of $R$ places a higher weight on our control input $u$. \n",
    "\n",
    "Imagine that we want to drive the system's state to zero as fast as possible without much regard for the energy required to get there. Then we would choose a large value for $Q$ and a small value for $R$. If we want to use less energy or actuation effort, we would choose a larger value of $R$. \n"
   ]
  },
  {
   "cell_type": "markdown",
   "metadata": {},
   "source": [
    "To begin our LQR controller design, let's create a simulation of the inverted pendulum on a cart that experiences an external horizontal force to try to knock over the pendulum:"
   ]
  },
  {
   "cell_type": "code",
   "execution_count": null,
   "metadata": {},
   "outputs": [],
   "source": [
    "dt, t_final = 0.01, 20\n",
    "pend = sim.Pendulum(\n",
    "    2.0,  # Large mass, 2.0 kg\n",
    "    1.0,  # Small mass, 1.0 kg\n",
    "    2.0,  # length of arm, 2.0 meter\n",
    "    initial_state=np.array([0.0, 0.0, 0.0, 0.0]),\n",
    ")\n",
    "def force_func(t):\n",
    "    return 10 * np.exp( -(  ((t-2.0)/0.1)**2) )\n",
    "simu = sim.Simulation(dt, t_final, force_func)"
   ]
  },
  {
   "cell_type": "markdown",
   "metadata": {},
   "source": [
    "Our choice of $Q$ and $R$ is how we \"tune\" our LQR controller to fit our needs.\n",
    "\n",
    "For a state vector $x$ with length `n`, the $Q$ matrix should be size `n`x`n`.\n",
    "\n",
    "The state vector $x$ is $[p, \\dot p, \\theta, \\dot\\theta]$, where $p$ is the cart's position, $\\dot p$ is the cart's velocity, $\\theta$ is the pendulum angle measured from the upright position, and $\\dot\\theta$ is the pendulum's angular velocity.\n",
    "\n",
    "\n",
    "Then the $Q$ matrix is a 4 x 4 matrix that we choose to be diagonal as:  \n",
    "\n",
    "$$\n",
    "Q = \\begin{bmatrix}a&0&0&0\\cr0&b&0&0\\cr0&0&c&0\\cr0&0&0&d\\end{bmatrix}\n",
    "$$\n",
    "\n",
    "where $a$, $b$, $c$, and $d$ are weighting factors for the states $p$, $\\dot p$, $\\theta$, and $\\dot \\theta$, respectively.\n",
    "\n",
    "Since $u$ is a scalar in this case, $R$ is also a scalar.\n"
   ]
  },
  {
   "cell_type": "markdown",
   "metadata": {},
   "source": [
    "Let's begin with an LQR controller that places a weight of _100,000_ on $\\theta$, _1,000_ on $\\dot\\theta$, _1_ on the input $u$, and _zero_ weighting on $p$ and $\\dot p$. "
   ]
  },
  {
   "cell_type": "code",
   "execution_count": null,
   "metadata": {},
   "outputs": [],
   "source": [
    "Q = np.array([[0,0,0,0], [0,0,0,0],[0,0,100000,0],[0,0,0,1000]])\n",
    "R = 1\n",
    "window = 10 # used in internal calculations\n",
    "lqr_controller = controller.LQR(pend, dt, Q, R, window)\n",
    "results = simu.simulate(pend, lqr_controller)"
   ]
  },
  {
   "cell_type": "markdown",
   "metadata": {},
   "source": [
    "Now to plot the results:"
   ]
  },
  {
   "cell_type": "code",
   "execution_count": null,
   "metadata": {},
   "outputs": [],
   "source": [
    "fig, ax = plt.subplots(nrows=2, sharex=True)\n",
    "ax[0].plot(results[(\"state\", \"t\")], label=r\"$\\theta$\")\n",
    "ax[0].set_ylabel(r\"$\\theta$\")\n",
    "\n",
    "ax[1].plot(results[(\"control action\", \"control action\")], label=\"Control Action\")\n",
    "ax[1].set_ylabel(\"Control Action\")\n",
    "ax[1].set_xlabel(\"Time Step\")\n",
    "plt.show()"
   ]
  },
  {
   "cell_type": "markdown",
   "metadata": {},
   "source": [
    "We see that the LQR controller effectively stabilizes the pendulum in the upright position after the external force is applied. \n",
    "\n",
    "Let's look at a visualization of our LQR simulation. Note: External force is red and control force is blue."
   ]
  },
  {
   "cell_type": "code",
   "execution_count": null,
   "metadata": {},
   "outputs": [],
   "source": [
    "visu = viz.Visualizer(results, pend, dt=dt, speed=1)\n",
    "ani = visu.animate()\n",
    "HTML(ani.to_html5_video())"
   ]
  },
  {
   "cell_type": "markdown",
   "metadata": {},
   "source": [
    "\n",
    "# Tuning R\n",
    "Let's see what happens as we gradually increase $R$, meaning we increase the \"penalty\" on the control input"
   ]
  },
  {
   "cell_type": "code",
   "execution_count": null,
   "metadata": {},
   "outputs": [],
   "source": [
    "Q = np.array([[0,0,0,0], [0,0,0,0],[0,0,100000,0],[0,0,0,1000]])\n",
    "R = 0\n",
    "window = 10 # used in internal calculations\n",
    "\n",
    "increase_by = 0.5\n",
    "n = 12\n",
    "conts = []\n",
    "pends = [pend] * n\n",
    "R_values = []\n",
    "for _ in range(n):\n",
    "    # increase the gain\n",
    "    conts.append(controller.LQR(pend, dt, Q, R, window))\n",
    "    R_values.append(R)\n",
    "    R += increase_by\n",
    "# simulate each controller\n",
    "all_results = simu.simulate_multiple(pends, conts)\n",
    "\n",
    "nrows, ncols = 4, 3\n",
    "fig1, ax1 = plt.subplots(nrows=nrows, ncols=ncols, sharex=True, sharey=False, figsize=(15,12))\n",
    "axn, ax_idxs = 0, {}\n",
    "for i in range(nrows):\n",
    "    for j in range(ncols):\n",
    "        ax_idxs[axn] = (i, j)\n",
    "        axn += 1\n",
    "for g, (idx, res), (axi, axj) in zip(R_values, all_results.groupby(level=0), ax_idxs.values()):\n",
    "    res.index = res.index.droplevel(0)\n",
    "    ax1[axi, axj].plot(res[('state', 't')])\n",
    "    ax1[axi, axj].set_title(f'R={g:.2f}')\n",
    "# label plots\n",
    "for i in range(nrows):\n",
    "    ax1[i, 0].set_ylabel('theta (rad)')\n",
    "for j in range(ncols):\n",
    "    ax1[-1, j].set_xlabel('time (s)')\n",
    "\n",
    "print('\\n\\n\\n\\n                                                                        \\033[1m THETA VS TIME \\033[0m')\n",
    "plt.show()\n",
    "print('\\n\\n\\n\\n                                                                        \\033[1m U VS TIME \\033[0m')\n",
    "\n",
    "#Repeat for U vs time\n",
    "\n",
    "fig2, ax2 = plt.subplots(nrows=nrows, ncols=ncols, sharex=True, sharey=False, figsize=(15,12))\n",
    "axn, ax_idxs = 0, {}\n",
    "for i in range(nrows):\n",
    "    for j in range(ncols):\n",
    "        ax_idxs[axn] = (i, j)\n",
    "        axn += 1\n",
    "for g, (idx, res), (axi, axj) in zip(R_values, all_results.groupby(level=0), ax_idxs.values()):\n",
    "    res.index = res.index.droplevel(0)\n",
    "    ax2[axi, axj].plot(res[('control action', 'control action')])\n",
    "    ax2[axi, axj].set_title(f'R={g:.2f}')\n",
    "# label plots\n",
    "for i in range(nrows):\n",
    "    ax1[i, 0].set_ylabel('Control Action')\n",
    "for j in range(ncols):\n",
    "    ax1[-1, j].set_xlabel('time (s)')\n",
    "\n",
    "plt.show()"
   ]
  },
  {
   "cell_type": "markdown",
   "metadata": {},
   "source": [
    "As we increase $R$, the controller becomes more conservative with its actions (i.e, smaller actions) because those control inputs are penalized more harshly. \n",
    "\n",
    "Increasing $R$ can be useful if we want a more conservative controller, e.g., we want the system to consume less energy.\n",
    "\n",
    "However, increasing $R$ too much can cause the controller to be unable to take large enough actions to stabilize the system. We see that the pendulum falls over with larger values of $R$.  \n",
    "\n",
    "In general, a large $R$ will cause the system to take smaller actions and react \"slower.\"\n",
    "\n",
    "# Tuning Q\n",
    "Choosing $R$ to be _5_, let's see what happens when we vary $Q$, which increases the penalty on the state. Here we will only penalize the pendulum angle and angular velocity and not the cart's position."
   ]
  },
  {
   "cell_type": "code",
   "execution_count": null,
   "metadata": {},
   "outputs": [],
   "source": [
    "Q = np.array([[0,0,0,0], [0,0,0,0],[0,0,0,0],[0,0,0,0]])\n",
    "R = 5\n",
    "window = 10 # used in internal calculations\n",
    "\n",
    "increase_c = 7e4\n",
    "increase_d = 3e4\n",
    "n = 12\n",
    "conts = []\n",
    "pends = [pend] * n\n",
    "Q_values = []\n",
    "for _ in range(n):\n",
    "    # increase the gain\n",
    "    Q_values.append(Q)\n",
    "    Q = Q + np.array([[0,0,0,0], [0,0,0,0],[0,0,increase_c,0],[0,0,0,increase_d]])\n",
    "    conts.append(controller.LQR(pend, dt, Q, R, window))\n",
    "# simulate each controller\n",
    "all_results = simu.simulate_multiple(pends, conts)\n",
    "\n",
    "nrows, ncols = 4, 3\n",
    "fig1, ax1 = plt.subplots(nrows=nrows, ncols=ncols, sharex=True, sharey=False, figsize=(15,12))\n",
    "axn, ax_idxs = 0, {}\n",
    "for i in range(nrows):\n",
    "    for j in range(ncols):\n",
    "        ax_idxs[axn] = (i, j)\n",
    "        axn += 1\n",
    "for g, (idx, res), (axi, axj) in zip(Q_values, all_results.groupby(level=0), ax_idxs.values()):\n",
    "    res.index = res.index.droplevel(0)\n",
    "    ax1[axi, axj].plot(res[('state', 't')])\n",
    "    ax1[axi, axj].set_title(f'C={g[2,2]:.2f} and D={g[3,3]:.2f}')\n",
    "# label plots\n",
    "for i in range(nrows):\n",
    "    ax1[i, 0].set_ylabel('theta (rad)')\n",
    "for j in range(ncols):\n",
    "    ax1[-1, j].set_xlabel('time (s)')\n",
    "\n",
    "print('\\n\\n\\n\\n                                                                        \\033[1m THETA VS TIME \\033[0m')\n",
    "plt.show()\n",
    "print('\\n\\n\\n\\n                                                                        \\033[1m U VS TIME \\033[0m')\n",
    "\n",
    "\n",
    "#Repeat for U vs time\n",
    "\n",
    "fig2, ax2 = plt.subplots(nrows=nrows, ncols=ncols, sharex=True, sharey=False, figsize=(15,12))\n",
    "axn, ax_idxs = 0, {}\n",
    "for i in range(nrows):\n",
    "    for j in range(ncols):\n",
    "        ax_idxs[axn] = (i, j)\n",
    "        axn += 1\n",
    "for g, (idx, res), (axi, axj) in zip(Q_values, all_results.groupby(level=0), ax_idxs.values()):\n",
    "    res.index = res.index.droplevel(0)\n",
    "    ax2[axi, axj].plot(res[('control action', 'control action')])\n",
    "    ax2[axi, axj].set_title(f'C={g[2,2]:.2f} and D={g[3,3]:.2f}')\n",
    "# label plots\n",
    "for i in range(nrows):\n",
    "    ax2[i, 0].set_ylabel('Control Action')\n",
    "for j in range(ncols):\n",
    "    ax2[-1, j].set_xlabel('time (s)')\n",
    "\n",
    "plt.show()\n"
   ]
  },
  {
   "cell_type": "markdown",
   "metadata": {},
   "source": [
    "Initially, we see that with $Q$ equal to zero, the system cannot be stabilized, and the pendulum falls over.\n",
    "\n",
    "As we increase $Q$, the system stabilizes faster. This is because $Q$ penalizes deviation from zero angle and zero angular velocity, that is, the upright position with zero velocity, and the controller wants to minimize that penalty.\n",
    "\n",
    "Using a large $Q$ can be useful if we want our system to make a large action as quickly as possible without regarding the energy cost of that action.  \n",
    "\n",
    "Using a $Q$ that's too small may cause the controller to be unresponsive, which may lead to poor performance or instability. Using a $Q$ that's too large may cause the controller to use an excessively large action that may lead to actuator saturation and consuming too much energy. "
   ]
  }
 ],
 "metadata": {
  "kernelspec": {
   "display_name": "Python 3",
   "language": "python",
   "name": "python3"
  },
  "language_info": {
   "codemirror_mode": {
    "name": "ipython",
    "version": 3
   },
   "file_extension": ".py",
   "mimetype": "text/x-python",
   "name": "python",
   "nbconvert_exporter": "python",
   "pygments_lexer": "ipython3",
   "version": "3.11.2"
  }
 },
 "nbformat": 4,
 "nbformat_minor": 2
}
